{
 "cells": [
  {
   "cell_type": "markdown",
   "metadata": {},
   "source": [
    "# Predicting and Preventing Customer Churn for Mobile Carrier\n",
    "\n",
    "## Data Wrangling and EDA"
   ]
  },
  {
   "cell_type": "code",
   "execution_count": 1,
   "metadata": {},
   "outputs": [],
   "source": [
    "import pandas as pd\n",
    "import numpy as np\n",
    "import matplotlib.pyplot as plt\n",
    "%matplotlib inline\n",
    "import seaborn as sns"
   ]
  },
  {
   "cell_type": "code",
   "execution_count": 2,
   "metadata": {},
   "outputs": [
    {
     "data": {
      "text/html": [
       "<div>\n",
       "<style scoped>\n",
       "    .dataframe tbody tr th:only-of-type {\n",
       "        vertical-align: middle;\n",
       "    }\n",
       "\n",
       "    .dataframe tbody tr th {\n",
       "        vertical-align: top;\n",
       "    }\n",
       "\n",
       "    .dataframe thead th {\n",
       "        text-align: right;\n",
       "    }\n",
       "</style>\n",
       "<table border=\"1\" class=\"dataframe\">\n",
       "  <thead>\n",
       "    <tr style=\"text-align: right;\">\n",
       "      <th></th>\n",
       "      <th>Call  Failure</th>\n",
       "      <th>Complains</th>\n",
       "      <th>Subscription  Length</th>\n",
       "      <th>Charge  Amount</th>\n",
       "      <th>Seconds of Use</th>\n",
       "      <th>Frequency of use</th>\n",
       "      <th>Frequency of SMS</th>\n",
       "      <th>Distinct Called Numbers</th>\n",
       "      <th>Age Group</th>\n",
       "      <th>Tariff Plan</th>\n",
       "      <th>Status</th>\n",
       "      <th>Customer Value</th>\n",
       "      <th>Churn</th>\n",
       "    </tr>\n",
       "  </thead>\n",
       "  <tbody>\n",
       "    <tr>\n",
       "      <th>0</th>\n",
       "      <td>8</td>\n",
       "      <td>0</td>\n",
       "      <td>38</td>\n",
       "      <td>0</td>\n",
       "      <td>4370</td>\n",
       "      <td>71</td>\n",
       "      <td>5</td>\n",
       "      <td>17</td>\n",
       "      <td>3</td>\n",
       "      <td>1</td>\n",
       "      <td>1</td>\n",
       "      <td>197.640</td>\n",
       "      <td>0</td>\n",
       "    </tr>\n",
       "    <tr>\n",
       "      <th>1</th>\n",
       "      <td>0</td>\n",
       "      <td>0</td>\n",
       "      <td>39</td>\n",
       "      <td>0</td>\n",
       "      <td>318</td>\n",
       "      <td>5</td>\n",
       "      <td>7</td>\n",
       "      <td>4</td>\n",
       "      <td>2</td>\n",
       "      <td>1</td>\n",
       "      <td>2</td>\n",
       "      <td>46.035</td>\n",
       "      <td>0</td>\n",
       "    </tr>\n",
       "    <tr>\n",
       "      <th>2</th>\n",
       "      <td>10</td>\n",
       "      <td>0</td>\n",
       "      <td>37</td>\n",
       "      <td>0</td>\n",
       "      <td>2453</td>\n",
       "      <td>60</td>\n",
       "      <td>359</td>\n",
       "      <td>24</td>\n",
       "      <td>3</td>\n",
       "      <td>1</td>\n",
       "      <td>1</td>\n",
       "      <td>1536.520</td>\n",
       "      <td>0</td>\n",
       "    </tr>\n",
       "    <tr>\n",
       "      <th>3</th>\n",
       "      <td>10</td>\n",
       "      <td>0</td>\n",
       "      <td>38</td>\n",
       "      <td>0</td>\n",
       "      <td>4198</td>\n",
       "      <td>66</td>\n",
       "      <td>1</td>\n",
       "      <td>35</td>\n",
       "      <td>1</td>\n",
       "      <td>1</td>\n",
       "      <td>1</td>\n",
       "      <td>240.020</td>\n",
       "      <td>0</td>\n",
       "    </tr>\n",
       "    <tr>\n",
       "      <th>4</th>\n",
       "      <td>3</td>\n",
       "      <td>0</td>\n",
       "      <td>38</td>\n",
       "      <td>0</td>\n",
       "      <td>2393</td>\n",
       "      <td>58</td>\n",
       "      <td>2</td>\n",
       "      <td>33</td>\n",
       "      <td>1</td>\n",
       "      <td>1</td>\n",
       "      <td>1</td>\n",
       "      <td>145.805</td>\n",
       "      <td>0</td>\n",
       "    </tr>\n",
       "  </tbody>\n",
       "</table>\n",
       "</div>"
      ],
      "text/plain": [
       "   Call  Failure  Complains  Subscription  Length  Charge  Amount  \\\n",
       "0              8          0                    38               0   \n",
       "1              0          0                    39               0   \n",
       "2             10          0                    37               0   \n",
       "3             10          0                    38               0   \n",
       "4              3          0                    38               0   \n",
       "\n",
       "   Seconds of Use  Frequency of use  Frequency of SMS  \\\n",
       "0            4370                71                 5   \n",
       "1             318                 5                 7   \n",
       "2            2453                60               359   \n",
       "3            4198                66                 1   \n",
       "4            2393                58                 2   \n",
       "\n",
       "   Distinct Called Numbers  Age Group  Tariff Plan  Status  Customer Value  \\\n",
       "0                       17          3            1       1         197.640   \n",
       "1                        4          2            1       2          46.035   \n",
       "2                       24          3            1       1        1536.520   \n",
       "3                       35          1            1       1         240.020   \n",
       "4                       33          1            1       1         145.805   \n",
       "\n",
       "   Churn  \n",
       "0      0  \n",
       "1      0  \n",
       "2      0  \n",
       "3      0  \n",
       "4      0  "
      ]
     },
     "execution_count": 2,
     "metadata": {},
     "output_type": "execute_result"
    }
   ],
   "source": [
    "# Read in the dataset\n",
    "df= pd.read_csv('Telecom_Churn.csv', index_col=0)\n",
    "df.head()"
   ]
  },
  {
   "cell_type": "code",
   "execution_count": 3,
   "metadata": {},
   "outputs": [
    {
     "name": "stdout",
     "output_type": "stream",
     "text": [
      "<class 'pandas.core.frame.DataFrame'>\n",
      "Int64Index: 3150 entries, 0 to 3149\n",
      "Data columns (total 13 columns):\n",
      " #   Column                   Non-Null Count  Dtype  \n",
      "---  ------                   --------------  -----  \n",
      " 0   Call  Failure            3150 non-null   int64  \n",
      " 1   Complains                3150 non-null   int64  \n",
      " 2   Subscription  Length     3150 non-null   int64  \n",
      " 3   Charge  Amount           3150 non-null   int64  \n",
      " 4   Seconds of Use           3150 non-null   int64  \n",
      " 5   Frequency of use         3150 non-null   int64  \n",
      " 6   Frequency of SMS         3150 non-null   int64  \n",
      " 7   Distinct Called Numbers  3150 non-null   int64  \n",
      " 8   Age Group                3150 non-null   int64  \n",
      " 9   Tariff Plan              3150 non-null   int64  \n",
      " 10  Status                   3150 non-null   int64  \n",
      " 11  Customer Value           3150 non-null   float64\n",
      " 12  Churn                    3150 non-null   int64  \n",
      "dtypes: float64(1), int64(12)\n",
      "memory usage: 344.5 KB\n"
     ]
    }
   ],
   "source": [
    "# Rename first column to be the Customer ID\n",
    "#df.rename(columns={'Unnamed: 0': 'Customer ID'}, inplace=True)\n",
    "# Print the info\n",
    "df.info()"
   ]
  },
  {
   "cell_type": "markdown",
   "metadata": {},
   "source": [
    "## Describing the Data from Source\n",
    "\n",
    "** Data is a random selection of customers from a 12 month period. All data is an aggregate of 9 months of data except the Churn value which is just wether or not the customer cancelled service at the end of the 12 month period.\n",
    "\n",
    "Index: Unique Identifier for the customer\n",
    "\n",
    "1) Call Failure: Number of call failures\n",
    "\n",
    "2) Complains: binary (0: No complaint, 1: complaint)\n",
    "\n",
    "3) Subscription Length: total months of subscription\n",
    "\n",
    "4) Charge Amount: Ordinal attribute (0: lowest amount, 9: highest amount)\n",
    "\n",
    "5) Seconds of Use: total seconds of calls\n",
    "\n",
    "6) Frequency of use: total number of calls\n",
    "\n",
    "7) Frequency of SMS: total number of text messages\n",
    "\n",
    "8) Distinct Called Numbers: total number of distinct phone calls\n",
    "\n",
    "9) Age Group: ordinal attribute (1: younger age, 5: older age)\n",
    "\n",
    "10) Tariff Plan: binary (1: Pay as you go, 2: contractual)\n",
    "\n",
    "11) Status: binary (1: active, 2: non-active)\n",
    "\n",
    "12) Churn: binary (1: churn, 0: non-churn) - Class label\n",
    "\n",
    "13) Customer Value: The calculated value of customer\n",
    "\n",
    "Data was sourced from the UCI Machine Learning Library \n",
    "https://archive.ics.uci.edu/ml/datasets/Iranian+Churn+Dataset"
   ]
  },
  {
   "cell_type": "markdown",
   "metadata": {},
   "source": [
    "### Column Names"
   ]
  },
  {
   "cell_type": "code",
   "execution_count": 4,
   "metadata": {},
   "outputs": [
    {
     "name": "stdout",
     "output_type": "stream",
     "text": [
      "Index(['Call  Failure', 'Complains', 'Subscription  Length', 'Charge  Amount',\n",
      "       'Seconds of Use', 'Frequency of use', 'Frequency of SMS',\n",
      "       'Distinct Called Numbers', 'Age Group', 'Tariff Plan', 'Status',\n",
      "       'Customer Value', 'Churn'],\n",
      "      dtype='object')\n"
     ]
    }
   ],
   "source": [
    "print(df.columns)"
   ]
  },
  {
   "cell_type": "markdown",
   "metadata": {},
   "source": [
    "### Data Types"
   ]
  },
  {
   "cell_type": "code",
   "execution_count": 6,
   "metadata": {},
   "outputs": [
    {
     "data": {
      "text/plain": [
       "Call  Failure                int64\n",
       "Complains                    int64\n",
       "Subscription  Length         int64\n",
       "Charge  Amount               int64\n",
       "Seconds of Use               int64\n",
       "Frequency of use             int64\n",
       "Frequency of SMS             int64\n",
       "Distinct Called Numbers      int64\n",
       "Age Group                    int64\n",
       "Tariff Plan                  int64\n",
       "Status                       int64\n",
       "Customer Value             float64\n",
       "Churn                        int64\n",
       "dtype: object"
      ]
     },
     "execution_count": 6,
     "metadata": {},
     "output_type": "execute_result"
    }
   ],
   "source": [
    "df.dtypes"
   ]
  },
  {
   "cell_type": "markdown",
   "metadata": {},
   "source": [
    "### Number of Unique Values per Column"
   ]
  },
  {
   "cell_type": "code",
   "execution_count": 9,
   "metadata": {},
   "outputs": [
    {
     "data": {
      "text/plain": [
       "Call  Failure                37\n",
       "Complains                     2\n",
       "Subscription  Length         45\n",
       "Charge  Amount               11\n",
       "Seconds of Use             1756\n",
       "Frequency of use            242\n",
       "Frequency of SMS            405\n",
       "Distinct Called Numbers      92\n",
       "Age Group                     5\n",
       "Tariff Plan                   2\n",
       "Status                        2\n",
       "Customer Value             2654\n",
       "Churn                         2\n",
       "dtype: int64"
      ]
     },
     "execution_count": 9,
     "metadata": {},
     "output_type": "execute_result"
    }
   ],
   "source": [
    "df.nunique()"
   ]
  },
  {
   "cell_type": "markdown",
   "metadata": {},
   "source": [
    "### Ranges for Each Feature"
   ]
  },
  {
   "cell_type": "code",
   "execution_count": 13,
   "metadata": {},
   "outputs": [
    {
     "data": {
      "text/plain": [
       "Call  Failure                 36.00\n",
       "Complains                      1.00\n",
       "Subscription  Length          44.00\n",
       "Charge  Amount                10.00\n",
       "Seconds of Use             17090.00\n",
       "Frequency of use             255.00\n",
       "Frequency of SMS             522.00\n",
       "Distinct Called Numbers       97.00\n",
       "Age Group                      4.00\n",
       "Tariff Plan                    1.00\n",
       "Status                         1.00\n",
       "Customer Value              2165.28\n",
       "Churn                          1.00\n",
       "dtype: float64"
      ]
     },
     "execution_count": 13,
     "metadata": {},
     "output_type": "execute_result"
    }
   ],
   "source": [
    "df.max() - df.min()"
   ]
  },
  {
   "cell_type": "markdown",
   "metadata": {},
   "source": [
    "### Summary Statistics"
   ]
  },
  {
   "cell_type": "code",
   "execution_count": 14,
   "metadata": {},
   "outputs": [
    {
     "data": {
      "text/html": [
       "<div>\n",
       "<style scoped>\n",
       "    .dataframe tbody tr th:only-of-type {\n",
       "        vertical-align: middle;\n",
       "    }\n",
       "\n",
       "    .dataframe tbody tr th {\n",
       "        vertical-align: top;\n",
       "    }\n",
       "\n",
       "    .dataframe thead th {\n",
       "        text-align: right;\n",
       "    }\n",
       "</style>\n",
       "<table border=\"1\" class=\"dataframe\">\n",
       "  <thead>\n",
       "    <tr style=\"text-align: right;\">\n",
       "      <th></th>\n",
       "      <th>Call  Failure</th>\n",
       "      <th>Complains</th>\n",
       "      <th>Subscription  Length</th>\n",
       "      <th>Charge  Amount</th>\n",
       "      <th>Seconds of Use</th>\n",
       "      <th>Frequency of use</th>\n",
       "      <th>Frequency of SMS</th>\n",
       "      <th>Distinct Called Numbers</th>\n",
       "      <th>Age Group</th>\n",
       "      <th>Tariff Plan</th>\n",
       "      <th>Status</th>\n",
       "      <th>Customer Value</th>\n",
       "      <th>Churn</th>\n",
       "    </tr>\n",
       "  </thead>\n",
       "  <tbody>\n",
       "    <tr>\n",
       "      <th>count</th>\n",
       "      <td>3150.000000</td>\n",
       "      <td>3150.000000</td>\n",
       "      <td>3150.000000</td>\n",
       "      <td>3150.000000</td>\n",
       "      <td>3150.000000</td>\n",
       "      <td>3150.000000</td>\n",
       "      <td>3150.000000</td>\n",
       "      <td>3150.000000</td>\n",
       "      <td>3150.000000</td>\n",
       "      <td>3150.000000</td>\n",
       "      <td>3150.000000</td>\n",
       "      <td>3150.000000</td>\n",
       "      <td>3150.000000</td>\n",
       "    </tr>\n",
       "    <tr>\n",
       "      <th>mean</th>\n",
       "      <td>7.627937</td>\n",
       "      <td>0.076508</td>\n",
       "      <td>32.541905</td>\n",
       "      <td>0.942857</td>\n",
       "      <td>4472.459683</td>\n",
       "      <td>69.460635</td>\n",
       "      <td>73.174921</td>\n",
       "      <td>23.509841</td>\n",
       "      <td>2.826032</td>\n",
       "      <td>1.077778</td>\n",
       "      <td>1.248254</td>\n",
       "      <td>470.972916</td>\n",
       "      <td>0.157143</td>\n",
       "    </tr>\n",
       "    <tr>\n",
       "      <th>std</th>\n",
       "      <td>7.263886</td>\n",
       "      <td>0.265851</td>\n",
       "      <td>8.573482</td>\n",
       "      <td>1.521072</td>\n",
       "      <td>4197.908687</td>\n",
       "      <td>57.413308</td>\n",
       "      <td>112.237560</td>\n",
       "      <td>17.217337</td>\n",
       "      <td>0.892555</td>\n",
       "      <td>0.267864</td>\n",
       "      <td>0.432069</td>\n",
       "      <td>517.015433</td>\n",
       "      <td>0.363993</td>\n",
       "    </tr>\n",
       "    <tr>\n",
       "      <th>min</th>\n",
       "      <td>0.000000</td>\n",
       "      <td>0.000000</td>\n",
       "      <td>3.000000</td>\n",
       "      <td>0.000000</td>\n",
       "      <td>0.000000</td>\n",
       "      <td>0.000000</td>\n",
       "      <td>0.000000</td>\n",
       "      <td>0.000000</td>\n",
       "      <td>1.000000</td>\n",
       "      <td>1.000000</td>\n",
       "      <td>1.000000</td>\n",
       "      <td>0.000000</td>\n",
       "      <td>0.000000</td>\n",
       "    </tr>\n",
       "    <tr>\n",
       "      <th>25%</th>\n",
       "      <td>1.000000</td>\n",
       "      <td>0.000000</td>\n",
       "      <td>30.000000</td>\n",
       "      <td>0.000000</td>\n",
       "      <td>1391.250000</td>\n",
       "      <td>27.000000</td>\n",
       "      <td>6.000000</td>\n",
       "      <td>10.000000</td>\n",
       "      <td>2.000000</td>\n",
       "      <td>1.000000</td>\n",
       "      <td>1.000000</td>\n",
       "      <td>113.801250</td>\n",
       "      <td>0.000000</td>\n",
       "    </tr>\n",
       "    <tr>\n",
       "      <th>50%</th>\n",
       "      <td>6.000000</td>\n",
       "      <td>0.000000</td>\n",
       "      <td>35.000000</td>\n",
       "      <td>0.000000</td>\n",
       "      <td>2990.000000</td>\n",
       "      <td>54.000000</td>\n",
       "      <td>21.000000</td>\n",
       "      <td>21.000000</td>\n",
       "      <td>3.000000</td>\n",
       "      <td>1.000000</td>\n",
       "      <td>1.000000</td>\n",
       "      <td>228.480000</td>\n",
       "      <td>0.000000</td>\n",
       "    </tr>\n",
       "    <tr>\n",
       "      <th>75%</th>\n",
       "      <td>12.000000</td>\n",
       "      <td>0.000000</td>\n",
       "      <td>38.000000</td>\n",
       "      <td>1.000000</td>\n",
       "      <td>6478.250000</td>\n",
       "      <td>95.000000</td>\n",
       "      <td>87.000000</td>\n",
       "      <td>34.000000</td>\n",
       "      <td>3.000000</td>\n",
       "      <td>1.000000</td>\n",
       "      <td>1.000000</td>\n",
       "      <td>788.388750</td>\n",
       "      <td>0.000000</td>\n",
       "    </tr>\n",
       "    <tr>\n",
       "      <th>max</th>\n",
       "      <td>36.000000</td>\n",
       "      <td>1.000000</td>\n",
       "      <td>47.000000</td>\n",
       "      <td>10.000000</td>\n",
       "      <td>17090.000000</td>\n",
       "      <td>255.000000</td>\n",
       "      <td>522.000000</td>\n",
       "      <td>97.000000</td>\n",
       "      <td>5.000000</td>\n",
       "      <td>2.000000</td>\n",
       "      <td>2.000000</td>\n",
       "      <td>2165.280000</td>\n",
       "      <td>1.000000</td>\n",
       "    </tr>\n",
       "  </tbody>\n",
       "</table>\n",
       "</div>"
      ],
      "text/plain": [
       "       Call  Failure    Complains  Subscription  Length  Charge  Amount  \\\n",
       "count    3150.000000  3150.000000           3150.000000     3150.000000   \n",
       "mean        7.627937     0.076508             32.541905        0.942857   \n",
       "std         7.263886     0.265851              8.573482        1.521072   \n",
       "min         0.000000     0.000000              3.000000        0.000000   \n",
       "25%         1.000000     0.000000             30.000000        0.000000   \n",
       "50%         6.000000     0.000000             35.000000        0.000000   \n",
       "75%        12.000000     0.000000             38.000000        1.000000   \n",
       "max        36.000000     1.000000             47.000000       10.000000   \n",
       "\n",
       "       Seconds of Use  Frequency of use  Frequency of SMS  \\\n",
       "count     3150.000000       3150.000000       3150.000000   \n",
       "mean      4472.459683         69.460635         73.174921   \n",
       "std       4197.908687         57.413308        112.237560   \n",
       "min          0.000000          0.000000          0.000000   \n",
       "25%       1391.250000         27.000000          6.000000   \n",
       "50%       2990.000000         54.000000         21.000000   \n",
       "75%       6478.250000         95.000000         87.000000   \n",
       "max      17090.000000        255.000000        522.000000   \n",
       "\n",
       "       Distinct Called Numbers    Age Group  Tariff Plan       Status  \\\n",
       "count              3150.000000  3150.000000  3150.000000  3150.000000   \n",
       "mean                 23.509841     2.826032     1.077778     1.248254   \n",
       "std                  17.217337     0.892555     0.267864     0.432069   \n",
       "min                   0.000000     1.000000     1.000000     1.000000   \n",
       "25%                  10.000000     2.000000     1.000000     1.000000   \n",
       "50%                  21.000000     3.000000     1.000000     1.000000   \n",
       "75%                  34.000000     3.000000     1.000000     1.000000   \n",
       "max                  97.000000     5.000000     2.000000     2.000000   \n",
       "\n",
       "       Customer Value        Churn  \n",
       "count     3150.000000  3150.000000  \n",
       "mean       470.972916     0.157143  \n",
       "std        517.015433     0.363993  \n",
       "min          0.000000     0.000000  \n",
       "25%        113.801250     0.000000  \n",
       "50%        228.480000     0.000000  \n",
       "75%        788.388750     0.000000  \n",
       "max       2165.280000     1.000000  "
      ]
     },
     "execution_count": 14,
     "metadata": {},
     "output_type": "execute_result"
    }
   ],
   "source": [
    "df.describe()"
   ]
  },
  {
   "cell_type": "markdown",
   "metadata": {},
   "source": [
    "## Exploratory Data Analyis\n",
    "\n",
    "Being that our data was gathered from the UCI ML Repo it is already cleaned so there is not much wrangling to be done and we can jump straight to the exploratory data anaylsis phase"
   ]
  },
  {
   "cell_type": "markdown",
   "metadata": {},
   "source": [
    "### Let's start by looking at the distrubution of our non-binary attributes"
   ]
  },
  {
   "cell_type": "code",
   "execution_count": 17,
   "metadata": {},
   "outputs": [
    {
     "name": "stdout",
     "output_type": "stream",
     "text": [
      "Non Binary Columns: ['Call  Failure', 'Subscription  Length', 'Charge  Amount', 'Seconds of Use', 'Frequency of use', 'Frequency of SMS', 'Distinct Called Numbers', 'Age Group', 'Customer Value']\n",
      "\n",
      "\n",
      "Binary Columns: ['Complains', 'Tariff Plan', 'Status', 'Churn']\n"
     ]
    }
   ],
   "source": [
    "# Start by creating lists of binary and non binary columns\n",
    "# Create empty lists\n",
    "non_binary=[]\n",
    "binary=[]\n",
    "\n",
    "# Loop through columns and assign column name to proper list\n",
    "for column in df.columns:\n",
    "    if df[column].nunique() > 2:\n",
    "        non_binary.append(column)\n",
    "    else: \n",
    "        binary.append(column)\n",
    "# print the two lists     \n",
    "print('Non Binary Columns: {}'.format(non_binary))\n",
    "print('\\n')\n",
    "print('Binary Columns: {}'.format(binary))\n"
   ]
  },
  {
   "cell_type": "code",
   "execution_count": 19,
   "metadata": {},
   "outputs": [
    {
     "data": {
      "image/png": "[encoded data removed]",
      "text/plain": [
       "<Figure size 432x288 with 1 Axes>"
      ]
     },
     "metadata": {
      "needs_background": "light"
     },
     "output_type": "display_data"
    },
    {
     "data": {
      "image/png": "[encoded data removed]",
      "text/plain": [
       "<Figure size 432x288 with 1 Axes>"
      ]
     },
     "metadata": {
      "needs_background": "light"
     },
     "output_type": "display_data"
    },
    {
     "data": {
      "image/png": "[encoded data removed]",
      "text/plain": [
       "<Figure size 432x288 with 1 Axes>"
      ]
     },
     "metadata": {
      "needs_background": "light"
     },
     "output_type": "display_data"
    },
    {
     "data": {
      "image/png": "[encoded data removed]",
      "text/plain": [
       "<Figure size 432x288 with 1 Axes>"
      ]
     },
     "metadata": {
      "needs_background": "light"
     },
     "output_type": "display_data"
    },
    {
     "data": {
      "image/png": "[encoded data removed]",
      "text/plain": [
       "<Figure size 432x288 with 1 Axes>"
      ]
     },
     "metadata": {
      "needs_background": "light"
     },
     "output_type": "display_data"
    },
    {
     "data": {
      "image/png": "[encoded data removed]",
      "text/plain": [
       "<Figure size 432x288 with 1 Axes>"
      ]
     },
     "metadata": {
      "needs_background": "light"
     },
     "output_type": "display_data"
    },
    {
     "data": {
      "image/png": "[encoded data removed]",
      "text/plain": [
       "<Figure size 432x288 with 1 Axes>"
      ]
     },
     "metadata": {
      "needs_background": "light"
     },
     "output_type": "display_data"
    },
    {
     "data": {
      "image/png": "[encoded data removed]",
      "text/plain": [
       "<Figure size 432x288 with 1 Axes>"
      ]
     },
     "metadata": {
      "needs_background": "light"
     },
     "output_type": "display_data"
    },
    {
     "data": {
      "image/png": "[encoded data removed]",
      "text/plain": [
       "<Figure size 432x288 with 1 Axes>"
      ]
     },
     "metadata": {
      "needs_background": "light"
     },
     "output_type": "display_data"
    }
   ],
   "source": [
    "for x in non_binary: \n",
    "    plt.hist(x=df[x], bins=5)\n",
    "    plt.title('Distribution of {}'.format(x))\n",
    "    plt.show()"
   ]
  },
  {
   "cell_type": "markdown",
   "metadata": {},
   "source": [
    "### Notes\n",
    "\n",
    "We have a fair amount of distrubtion amongst all the non-binary attritbutes which is promising because that means they may provide some useful information in predicting churn. "
   ]
  },
  {
   "cell_type": "markdown",
   "metadata": {},
   "source": [
    "### What does the frequency breakdown look like for our binary attributes? "
   ]
  },
  {
   "cell_type": "code",
   "execution_count": 23,
   "metadata": {},
   "outputs": [
    {
     "name": "stdout",
     "output_type": "stream",
     "text": [
      "92% have not complained\n",
      "8% have complained\n"
     ]
    }
   ],
   "source": [
    "total= len(df)\n",
    "# get value counts for compaints\n",
    "complain= df.Complains.value_counts()\n",
    "\n",
    "print('{}% have not complained'.format(round(complain[0]/total * 100)))\n",
    "print('{}% have complained'.format(round(complain[1]/total * 100)))"
   ]
  },
  {
   "cell_type": "code",
   "execution_count": 27,
   "metadata": {},
   "outputs": [
    {
     "name": "stdout",
     "output_type": "stream",
     "text": [
      "92% are pay as you go.\n",
      "8% are on a contract.\n"
     ]
    }
   ],
   "source": [
    "plan= df['Tariff Plan'].value_counts()\n",
    "\n",
    "print('{}% are pay as you go.'.format(round(plan[1]/total * 100)))\n",
    "print('{}% are on a contract.'.format(round(plan[2]/total * 100)))"
   ]
  },
  {
   "cell_type": "code",
   "execution_count": 31,
   "metadata": {},
   "outputs": [
    {
     "name": "stdout",
     "output_type": "stream",
     "text": [
      "75% are active.\n",
      "25% are not active.\n"
     ]
    }
   ],
   "source": [
    "status= df.Status.value_counts()\n",
    "\n",
    "print('{}% are active.'.format(round(status[1]/total * 100)))\n",
    "print('{}% are not active.'.format(round(status[2]/total * 100)))"
   ]
  },
  {
   "cell_type": "code",
   "execution_count": 37,
   "metadata": {},
   "outputs": [
    {
     "name": "stdout",
     "output_type": "stream",
     "text": [
      "84% did not churn.\n",
      "16% churned. This is our annual churn rate which is very important!!\n"
     ]
    }
   ],
   "source": [
    "churn= df.Churn.value_counts()\n",
    "\n",
    "print('{}% did not churn.'.format(round(churn[0]/total * 100)))\n",
    "print('{}% churned. This is our annual churn rate which is very important!!'.format(round(churn[1]/total * 100)))"
   ]
  },
  {
   "cell_type": "markdown",
   "metadata": {},
   "source": [
    "### What kinds of correlations amongst attributes do we see? "
   ]
  },
  {
   "cell_type": "code",
   "execution_count": 39,
   "metadata": {},
   "outputs": [
    {
     "data": {
      "text/html": [
       "<div>\n",
       "<style scoped>\n",
       "    .dataframe tbody tr th:only-of-type {\n",
       "        vertical-align: middle;\n",
       "    }\n",
       "\n",
       "    .dataframe tbody tr th {\n",
       "        vertical-align: top;\n",
       "    }\n",
       "\n",
       "    .dataframe thead th {\n",
       "        text-align: right;\n",
       "    }\n",
       "</style>\n",
       "<table border=\"1\" class=\"dataframe\">\n",
       "  <thead>\n",
       "    <tr style=\"text-align: right;\">\n",
       "      <th></th>\n",
       "      <th>Call  Failure</th>\n",
       "      <th>Complains</th>\n",
       "      <th>Subscription  Length</th>\n",
       "      <th>Charge  Amount</th>\n",
       "      <th>Seconds of Use</th>\n",
       "      <th>Frequency of use</th>\n",
       "      <th>Frequency of SMS</th>\n",
       "      <th>Distinct Called Numbers</th>\n",
       "      <th>Age Group</th>\n",
       "      <th>Tariff Plan</th>\n",
       "      <th>Status</th>\n",
       "      <th>Customer Value</th>\n",
       "      <th>Churn</th>\n",
       "    </tr>\n",
       "  </thead>\n",
       "  <tbody>\n",
       "    <tr>\n",
       "      <th>Call  Failure</th>\n",
       "      <td>1.000000</td>\n",
       "      <td>0.152879</td>\n",
       "      <td>0.169737</td>\n",
       "      <td>0.589028</td>\n",
       "      <td>0.501607</td>\n",
       "      <td>0.573349</td>\n",
       "      <td>-0.022282</td>\n",
       "      <td>0.504058</td>\n",
       "      <td>0.050406</td>\n",
       "      <td>0.192285</td>\n",
       "      <td>-0.114645</td>\n",
       "      <td>0.121225</td>\n",
       "      <td>-0.008987</td>\n",
       "    </tr>\n",
       "    <tr>\n",
       "      <th>Complains</th>\n",
       "      <td>0.152879</td>\n",
       "      <td>1.000000</td>\n",
       "      <td>-0.020286</td>\n",
       "      <td>-0.033948</td>\n",
       "      <td>-0.104952</td>\n",
       "      <td>-0.090774</td>\n",
       "      <td>-0.111633</td>\n",
       "      <td>-0.058199</td>\n",
       "      <td>0.019976</td>\n",
       "      <td>0.001140</td>\n",
       "      <td>0.271405</td>\n",
       "      <td>-0.132895</td>\n",
       "      <td>0.532053</td>\n",
       "    </tr>\n",
       "    <tr>\n",
       "      <th>Subscription  Length</th>\n",
       "      <td>0.169737</td>\n",
       "      <td>-0.020286</td>\n",
       "      <td>1.000000</td>\n",
       "      <td>0.078789</td>\n",
       "      <td>0.124618</td>\n",
       "      <td>0.106534</td>\n",
       "      <td>0.076318</td>\n",
       "      <td>0.092009</td>\n",
       "      <td>0.021453</td>\n",
       "      <td>-0.159680</td>\n",
       "      <td>0.142841</td>\n",
       "      <td>0.109565</td>\n",
       "      <td>-0.032588</td>\n",
       "    </tr>\n",
       "    <tr>\n",
       "      <th>Charge  Amount</th>\n",
       "      <td>0.589028</td>\n",
       "      <td>-0.033948</td>\n",
       "      <td>0.078789</td>\n",
       "      <td>1.000000</td>\n",
       "      <td>0.446738</td>\n",
       "      <td>0.379096</td>\n",
       "      <td>0.091533</td>\n",
       "      <td>0.415198</td>\n",
       "      <td>0.279679</td>\n",
       "      <td>0.324232</td>\n",
       "      <td>-0.356269</td>\n",
       "      <td>0.169428</td>\n",
       "      <td>-0.202305</td>\n",
       "    </tr>\n",
       "    <tr>\n",
       "      <th>Seconds of Use</th>\n",
       "      <td>0.501607</td>\n",
       "      <td>-0.104952</td>\n",
       "      <td>0.124618</td>\n",
       "      <td>0.446738</td>\n",
       "      <td>1.000000</td>\n",
       "      <td>0.946489</td>\n",
       "      <td>0.102123</td>\n",
       "      <td>0.676536</td>\n",
       "      <td>0.020060</td>\n",
       "      <td>0.133593</td>\n",
       "      <td>-0.460618</td>\n",
       "      <td>0.415087</td>\n",
       "      <td>-0.298935</td>\n",
       "    </tr>\n",
       "    <tr>\n",
       "      <th>Frequency of use</th>\n",
       "      <td>0.573349</td>\n",
       "      <td>-0.090774</td>\n",
       "      <td>0.106534</td>\n",
       "      <td>0.379096</td>\n",
       "      <td>0.946489</td>\n",
       "      <td>1.000000</td>\n",
       "      <td>0.100019</td>\n",
       "      <td>0.736114</td>\n",
       "      <td>-0.032544</td>\n",
       "      <td>0.206452</td>\n",
       "      <td>-0.454752</td>\n",
       "      <td>0.401572</td>\n",
       "      <td>-0.303337</td>\n",
       "    </tr>\n",
       "    <tr>\n",
       "      <th>Frequency of SMS</th>\n",
       "      <td>-0.022282</td>\n",
       "      <td>-0.111633</td>\n",
       "      <td>0.076318</td>\n",
       "      <td>0.091533</td>\n",
       "      <td>0.102123</td>\n",
       "      <td>0.100019</td>\n",
       "      <td>1.000000</td>\n",
       "      <td>0.079650</td>\n",
       "      <td>-0.053719</td>\n",
       "      <td>0.195686</td>\n",
       "      <td>-0.296164</td>\n",
       "      <td>0.924877</td>\n",
       "      <td>-0.220754</td>\n",
       "    </tr>\n",
       "    <tr>\n",
       "      <th>Distinct Called Numbers</th>\n",
       "      <td>0.504058</td>\n",
       "      <td>-0.058199</td>\n",
       "      <td>0.092009</td>\n",
       "      <td>0.415198</td>\n",
       "      <td>0.676536</td>\n",
       "      <td>0.736114</td>\n",
       "      <td>0.079650</td>\n",
       "      <td>1.000000</td>\n",
       "      <td>0.020941</td>\n",
       "      <td>0.172079</td>\n",
       "      <td>-0.413039</td>\n",
       "      <td>0.284807</td>\n",
       "      <td>-0.278867</td>\n",
       "    </tr>\n",
       "    <tr>\n",
       "      <th>Age Group</th>\n",
       "      <td>0.050406</td>\n",
       "      <td>0.019976</td>\n",
       "      <td>0.021453</td>\n",
       "      <td>0.279679</td>\n",
       "      <td>0.020060</td>\n",
       "      <td>-0.032544</td>\n",
       "      <td>-0.053719</td>\n",
       "      <td>0.020941</td>\n",
       "      <td>1.000000</td>\n",
       "      <td>-0.150593</td>\n",
       "      <td>0.002506</td>\n",
       "      <td>-0.183481</td>\n",
       "      <td>-0.014550</td>\n",
       "    </tr>\n",
       "    <tr>\n",
       "      <th>Tariff Plan</th>\n",
       "      <td>0.192285</td>\n",
       "      <td>0.001140</td>\n",
       "      <td>-0.159680</td>\n",
       "      <td>0.324232</td>\n",
       "      <td>0.133593</td>\n",
       "      <td>0.206452</td>\n",
       "      <td>0.195686</td>\n",
       "      <td>0.172079</td>\n",
       "      <td>-0.150593</td>\n",
       "      <td>1.000000</td>\n",
       "      <td>-0.164143</td>\n",
       "      <td>0.252298</td>\n",
       "      <td>-0.105853</td>\n",
       "    </tr>\n",
       "    <tr>\n",
       "      <th>Status</th>\n",
       "      <td>-0.114645</td>\n",
       "      <td>0.271405</td>\n",
       "      <td>0.142841</td>\n",
       "      <td>-0.356269</td>\n",
       "      <td>-0.460618</td>\n",
       "      <td>-0.454752</td>\n",
       "      <td>-0.296164</td>\n",
       "      <td>-0.413039</td>\n",
       "      <td>0.002506</td>\n",
       "      <td>-0.164143</td>\n",
       "      <td>1.000000</td>\n",
       "      <td>-0.412990</td>\n",
       "      <td>0.498976</td>\n",
       "    </tr>\n",
       "    <tr>\n",
       "      <th>Customer Value</th>\n",
       "      <td>0.121225</td>\n",
       "      <td>-0.132895</td>\n",
       "      <td>0.109565</td>\n",
       "      <td>0.169428</td>\n",
       "      <td>0.415087</td>\n",
       "      <td>0.401572</td>\n",
       "      <td>0.924877</td>\n",
       "      <td>0.284807</td>\n",
       "      <td>-0.183481</td>\n",
       "      <td>0.252298</td>\n",
       "      <td>-0.412990</td>\n",
       "      <td>1.000000</td>\n",
       "      <td>-0.289144</td>\n",
       "    </tr>\n",
       "    <tr>\n",
       "      <th>Churn</th>\n",
       "      <td>-0.008987</td>\n",
       "      <td>0.532053</td>\n",
       "      <td>-0.032588</td>\n",
       "      <td>-0.202305</td>\n",
       "      <td>-0.298935</td>\n",
       "      <td>-0.303337</td>\n",
       "      <td>-0.220754</td>\n",
       "      <td>-0.278867</td>\n",
       "      <td>-0.014550</td>\n",
       "      <td>-0.105853</td>\n",
       "      <td>0.498976</td>\n",
       "      <td>-0.289144</td>\n",
       "      <td>1.000000</td>\n",
       "    </tr>\n",
       "  </tbody>\n",
       "</table>\n",
       "</div>"
      ],
      "text/plain": [
       "                         Call  Failure  Complains  Subscription  Length  \\\n",
       "Call  Failure                 1.000000   0.152879              0.169737   \n",
       "Complains                     0.152879   1.000000             -0.020286   \n",
       "Subscription  Length          0.169737  -0.020286              1.000000   \n",
       "Charge  Amount                0.589028  -0.033948              0.078789   \n",
       "Seconds of Use                0.501607  -0.104952              0.124618   \n",
       "Frequency of use              0.573349  -0.090774              0.106534   \n",
       "Frequency of SMS             -0.022282  -0.111633              0.076318   \n",
       "Distinct Called Numbers       0.504058  -0.058199              0.092009   \n",
       "Age Group                     0.050406   0.019976              0.021453   \n",
       "Tariff Plan                   0.192285   0.001140             -0.159680   \n",
       "Status                       -0.114645   0.271405              0.142841   \n",
       "Customer Value                0.121225  -0.132895              0.109565   \n",
       "Churn                        -0.008987   0.532053             -0.032588   \n",
       "\n",
       "                         Charge  Amount  Seconds of Use  Frequency of use  \\\n",
       "Call  Failure                  0.589028        0.501607          0.573349   \n",
       "Complains                     -0.033948       -0.104952         -0.090774   \n",
       "Subscription  Length           0.078789        0.124618          0.106534   \n",
       "Charge  Amount                 1.000000        0.446738          0.379096   \n",
       "Seconds of Use                 0.446738        1.000000          0.946489   \n",
       "Frequency of use               0.379096        0.946489          1.000000   \n",
       "Frequency of SMS               0.091533        0.102123          0.100019   \n",
       "Distinct Called Numbers        0.415198        0.676536          0.736114   \n",
       "Age Group                      0.279679        0.020060         -0.032544   \n",
       "Tariff Plan                    0.324232        0.133593          0.206452   \n",
       "Status                        -0.356269       -0.460618         -0.454752   \n",
       "Customer Value                 0.169428        0.415087          0.401572   \n",
       "Churn                         -0.202305       -0.298935         -0.303337   \n",
       "\n",
       "                         Frequency of SMS  Distinct Called Numbers  Age Group  \\\n",
       "Call  Failure                   -0.022282                 0.504058   0.050406   \n",
       "Complains                       -0.111633                -0.058199   0.019976   \n",
       "Subscription  Length             0.076318                 0.092009   0.021453   \n",
       "Charge  Amount                   0.091533                 0.415198   0.279679   \n",
       "Seconds of Use                   0.102123                 0.676536   0.020060   \n",
       "Frequency of use                 0.100019                 0.736114  -0.032544   \n",
       "Frequency of SMS                 1.000000                 0.079650  -0.053719   \n",
       "Distinct Called Numbers          0.079650                 1.000000   0.020941   \n",
       "Age Group                       -0.053719                 0.020941   1.000000   \n",
       "Tariff Plan                      0.195686                 0.172079  -0.150593   \n",
       "Status                          -0.296164                -0.413039   0.002506   \n",
       "Customer Value                   0.924877                 0.284807  -0.183481   \n",
       "Churn                           -0.220754                -0.278867  -0.014550   \n",
       "\n",
       "                         Tariff Plan    Status  Customer Value     Churn  \n",
       "Call  Failure               0.192285 -0.114645        0.121225 -0.008987  \n",
       "Complains                   0.001140  0.271405       -0.132895  0.532053  \n",
       "Subscription  Length       -0.159680  0.142841        0.109565 -0.032588  \n",
       "Charge  Amount              0.324232 -0.356269        0.169428 -0.202305  \n",
       "Seconds of Use              0.133593 -0.460618        0.415087 -0.298935  \n",
       "Frequency of use            0.206452 -0.454752        0.401572 -0.303337  \n",
       "Frequency of SMS            0.195686 -0.296164        0.924877 -0.220754  \n",
       "Distinct Called Numbers     0.172079 -0.413039        0.284807 -0.278867  \n",
       "Age Group                  -0.150593  0.002506       -0.183481 -0.014550  \n",
       "Tariff Plan                 1.000000 -0.164143        0.252298 -0.105853  \n",
       "Status                     -0.164143  1.000000       -0.412990  0.498976  \n",
       "Customer Value              0.252298 -0.412990        1.000000 -0.289144  \n",
       "Churn                      -0.105853  0.498976       -0.289144  1.000000  "
      ]
     },
     "execution_count": 39,
     "metadata": {},
     "output_type": "execute_result"
    }
   ],
   "source": [
    "# Create a correlation matrix\n",
    "corr= df.corr()"
   ]
  },
  {
   "cell_type": "code",
   "execution_count": 46,
   "metadata": {},
   "outputs": [
    {
     "data": {
      "text/plain": [
       "<matplotlib.axes._subplots.AxesSubplot at 0x1233bfd10>"
      ]
     },
     "execution_count": 46,
     "metadata": {},
     "output_type": "execute_result"
    },
    {
     "data": {
      "image/png": "[encoded data removed]",
      "text/plain": [
       "<Figure size 864x576 with 2 Axes>"
      ]
     },
     "metadata": {
      "needs_background": "light"
     },
     "output_type": "display_data"
    }
   ],
   "source": [
    "# Build a heatmap from the correlation matrix\n",
    "plt.figure(figsize=[12,8])\n",
    "sns.heatmap(corr, cmap='coolwarm', annot= True)\n"
   ]
  },
  {
   "cell_type": "markdown",
   "metadata": {},
   "source": [
    "### Notes\n",
    "\n",
    "- Churn is moderately correlated (~0.5) with status and compains which makes a lot of sense\n",
    "\n",
    "- Most frequency of use style attributes of correlated with eachother\n"
   ]
  },
  {
   "cell_type": "code",
   "execution_count": null,
   "metadata": {},
   "outputs": [],
   "source": []
  }
 ],
 "metadata": {
  "kernelspec": {
   "display_name": "Python 3",
   "language": "python",
   "name": "python3"
  },
  "language_info": {
   "codemirror_mode": {
    "name": "ipython",
    "version": 3
   },
   "file_extension": ".py",
   "mimetype": "text/x-python",
   "name": "python",
   "nbconvert_exporter": "python",
   "pygments_lexer": "ipython3",
   "version": "3.8.3"
  }
 },
 "nbformat": 4,
 "nbformat_minor": 2
}
